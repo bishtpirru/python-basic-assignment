{
 "cells": [
  {
   "cell_type": "code",
   "execution_count": null,
   "id": "26e0f253-dec6-43fb-8731-6f55e3f2966f",
   "metadata": {},
   "outputs": [],
   "source": [
    "Assignment 11 Solutions\n",
    "1. Create an assert statement that throws an AssertionError if the variable spam is a negative integer.\n"
   ]
  },
  {
   "cell_type": "code",
   "execution_count": 1,
   "id": "a743d174-fbf4-4f9b-a117-49ad042dfa02",
   "metadata": {},
   "outputs": [
    {
     "ename": "AssertionError",
     "evalue": "Variable Spam should not be a -ve number",
     "output_type": "error",
     "traceback": [
      "\u001b[0;31m---------------------------------------------------------------------------\u001b[0m",
      "\u001b[0;31mAssertionError\u001b[0m                            Traceback (most recent call last)",
      "Cell \u001b[0;32mIn [1], line 2\u001b[0m\n\u001b[1;32m      1\u001b[0m spam \u001b[38;5;241m=\u001b[39m \u001b[38;5;241m-\u001b[39m\u001b[38;5;241m22\u001b[39m\n\u001b[0;32m----> 2\u001b[0m \u001b[38;5;28;01massert\u001b[39;00m spam \u001b[38;5;241m>\u001b[39m\u001b[38;5;241m=\u001b[39m\u001b[38;5;241m0\u001b[39m, \u001b[38;5;124m'\u001b[39m\u001b[38;5;124mVariable Spam should not be a -ve number\u001b[39m\u001b[38;5;124m'\u001b[39m\n",
      "\u001b[0;31mAssertionError\u001b[0m: Variable Spam should not be a -ve number"
     ]
    }
   ],
   "source": [
    "spam = -22\n",
    "assert spam >=0, 'Variable Spam should not be a -ve number'"
   ]
  },
  {
   "cell_type": "code",
   "execution_count": null,
   "id": "2b522a29-e490-4ca8-986c-9a3050562c60",
   "metadata": {},
   "outputs": [],
   "source": [
    "2. Write an assert statement that triggers an AssertionError if the variables eggs and bacon contain strings that are the same as each other, even if their cases are different (that is, 'hello' and 'hello' are considered the same, and 'goodbye' and 'GOODbye' are also considered the same)."
   ]
  },
  {
   "cell_type": "code",
   "execution_count": 3,
   "id": "ea9eba53-9852-4dd1-9b2c-096fcf21ae72",
   "metadata": {},
   "outputs": [],
   "source": [
    "def raise_assert(egg,bacon):\n",
    "    egg = egg.upper()\n",
    "    bacon = bacon.upper()\n",
    "    assert not(egg == bacon), 'Eggs/Bacon should not be same, which are same now'"
   ]
  },
  {
   "cell_type": "code",
   "execution_count": 4,
   "id": "347c986a-7055-4eee-b555-5b04e9d5d642",
   "metadata": {},
   "outputs": [
    {
     "ename": "AssertionError",
     "evalue": "Eggs/Bacon should not be same, which are same now",
     "output_type": "error",
     "traceback": [
      "\u001b[0;31m---------------------------------------------------------------------------\u001b[0m",
      "\u001b[0;31mAssertionError\u001b[0m                            Traceback (most recent call last)",
      "Cell \u001b[0;32mIn [4], line 1\u001b[0m\n\u001b[0;32m----> 1\u001b[0m \u001b[43mraise_assert\u001b[49m\u001b[43m(\u001b[49m\u001b[38;5;124;43m'\u001b[39;49m\u001b[38;5;124;43mhello\u001b[39;49m\u001b[38;5;124;43m'\u001b[39;49m\u001b[43m,\u001b[49m\u001b[38;5;124;43m'\u001b[39;49m\u001b[38;5;124;43mHELLO\u001b[39;49m\u001b[38;5;124;43m'\u001b[39;49m\u001b[43m)\u001b[49m\n",
      "Cell \u001b[0;32mIn [3], line 4\u001b[0m, in \u001b[0;36mraise_assert\u001b[0;34m(egg, bacon)\u001b[0m\n\u001b[1;32m      2\u001b[0m egg \u001b[38;5;241m=\u001b[39m egg\u001b[38;5;241m.\u001b[39mupper()\n\u001b[1;32m      3\u001b[0m bacon \u001b[38;5;241m=\u001b[39m bacon\u001b[38;5;241m.\u001b[39mupper()\n\u001b[0;32m----> 4\u001b[0m \u001b[38;5;28;01massert\u001b[39;00m \u001b[38;5;129;01mnot\u001b[39;00m(egg \u001b[38;5;241m==\u001b[39m bacon), \u001b[38;5;124m'\u001b[39m\u001b[38;5;124mEggs/Bacon should not be same, which are same now\u001b[39m\u001b[38;5;124m'\u001b[39m\n",
      "\u001b[0;31mAssertionError\u001b[0m: Eggs/Bacon should not be same, which are same now"
     ]
    }
   ],
   "source": [
    "raise_assert('hello','HELLO')"
   ]
  },
  {
   "cell_type": "code",
   "execution_count": 5,
   "id": "6fd76bb1-48c2-4c07-8d64-47e862f20b00",
   "metadata": {},
   "outputs": [
    {
     "ename": "AssertionError",
     "evalue": "Eggs/Bacon should not be same, which are same now",
     "output_type": "error",
     "traceback": [
      "\u001b[0;31m---------------------------------------------------------------------------\u001b[0m",
      "\u001b[0;31mAssertionError\u001b[0m                            Traceback (most recent call last)",
      "Cell \u001b[0;32mIn [5], line 1\u001b[0m\n\u001b[0;32m----> 1\u001b[0m \u001b[43mraise_assert\u001b[49m\u001b[43m(\u001b[49m\u001b[38;5;124;43m'\u001b[39;49m\u001b[38;5;124;43mgoodbye\u001b[39;49m\u001b[38;5;124;43m'\u001b[39;49m\u001b[43m,\u001b[49m\u001b[38;5;124;43m'\u001b[39;49m\u001b[38;5;124;43mGOODbye\u001b[39;49m\u001b[38;5;124;43m'\u001b[39;49m\u001b[43m)\u001b[49m\n",
      "Cell \u001b[0;32mIn [3], line 4\u001b[0m, in \u001b[0;36mraise_assert\u001b[0;34m(egg, bacon)\u001b[0m\n\u001b[1;32m      2\u001b[0m egg \u001b[38;5;241m=\u001b[39m egg\u001b[38;5;241m.\u001b[39mupper()\n\u001b[1;32m      3\u001b[0m bacon \u001b[38;5;241m=\u001b[39m bacon\u001b[38;5;241m.\u001b[39mupper()\n\u001b[0;32m----> 4\u001b[0m \u001b[38;5;28;01massert\u001b[39;00m \u001b[38;5;129;01mnot\u001b[39;00m(egg \u001b[38;5;241m==\u001b[39m bacon), \u001b[38;5;124m'\u001b[39m\u001b[38;5;124mEggs/Bacon should not be same, which are same now\u001b[39m\u001b[38;5;124m'\u001b[39m\n",
      "\u001b[0;31mAssertionError\u001b[0m: Eggs/Bacon should not be same, which are same now"
     ]
    }
   ],
   "source": [
    "raise_assert('goodbye','GOODbye')"
   ]
  },
  {
   "cell_type": "code",
   "execution_count": null,
   "id": "411bd61f-35c0-4d95-b105-9aefb9dc2b82",
   "metadata": {},
   "outputs": [],
   "source": [
    "3. Create an assert statement that throws an AssertionError every time."
   ]
  },
  {
   "cell_type": "code",
   "execution_count": 6,
   "id": "cfacf6b9-6952-494e-b1c2-20c0aee0d4d6",
   "metadata": {},
   "outputs": [
    {
     "ename": "AssertionError",
     "evalue": "Always Shows Assertion Error",
     "output_type": "error",
     "traceback": [
      "\u001b[0;31m---------------------------------------------------------------------------\u001b[0m",
      "\u001b[0;31mAssertionError\u001b[0m                            Traceback (most recent call last)",
      "Cell \u001b[0;32mIn [6], line 3\u001b[0m\n\u001b[1;32m      1\u001b[0m \u001b[38;5;28;01mdef\u001b[39;00m \u001b[38;5;21massert_always\u001b[39m():\n\u001b[1;32m      2\u001b[0m     \u001b[38;5;28;01massert\u001b[39;00m \u001b[38;5;28;01mFalse\u001b[39;00m, \u001b[38;5;124m'\u001b[39m\u001b[38;5;124mAlways Shows Assertion Error\u001b[39m\u001b[38;5;124m'\u001b[39m\n\u001b[0;32m----> 3\u001b[0m \u001b[43massert_always\u001b[49m\u001b[43m(\u001b[49m\u001b[43m)\u001b[49m\n",
      "Cell \u001b[0;32mIn [6], line 2\u001b[0m, in \u001b[0;36massert_always\u001b[0;34m()\u001b[0m\n\u001b[1;32m      1\u001b[0m \u001b[38;5;28;01mdef\u001b[39;00m \u001b[38;5;21massert_always\u001b[39m():\n\u001b[0;32m----> 2\u001b[0m     \u001b[38;5;28;01massert\u001b[39;00m \u001b[38;5;28;01mFalse\u001b[39;00m, \u001b[38;5;124m'\u001b[39m\u001b[38;5;124mAlways Shows Assertion Error\u001b[39m\u001b[38;5;124m'\u001b[39m\n",
      "\u001b[0;31mAssertionError\u001b[0m: Always Shows Assertion Error"
     ]
    }
   ],
   "source": [
    "def assert_always():\n",
    "    assert False, 'Always Shows Assertion Error'\n",
    "assert_always()"
   ]
  },
  {
   "cell_type": "code",
   "execution_count": null,
   "id": "f1238ef1-d01a-42b3-a6d1-8215e21b22d5",
   "metadata": {},
   "outputs": [],
   "source": [
    "4. What are the two lines that must be present in your software in order to call logging.debug()?"
   ]
  },
  {
   "cell_type": "code",
   "execution_count": 8,
   "id": "791ebc00-ed93-4743-adf5-27784b9c179b",
   "metadata": {},
   "outputs": [],
   "source": [
    "import logging\n",
    "logging.basicConfig(filename = 'application_log.txt',level=logging.DEBUG, format=' %(asctime)s - %(levelname)s - %(message)s')\n"
   ]
  },
  {
   "cell_type": "code",
   "execution_count": null,
   "id": "48a6f5ea-438c-40c6-8b83-7ea4b8aedc20",
   "metadata": {},
   "outputs": [],
   "source": [
    "5. What are the two lines that your program must have in order to have logging.debug() send a logging message to a file named programLog.txt?"
   ]
  },
  {
   "cell_type": "code",
   "execution_count": 9,
   "id": "3e56a14e-7ec8-4da9-b98f-c14a10a709c1",
   "metadata": {},
   "outputs": [],
   "source": [
    "import logging\n",
    "logging.basicConfig(filename = 'application_log.txt',level=logging.DEBUG, format=' %(asctime)s - %(levelname)s - %(message)s')\n",
    "logging.debug(\"Data Inserted Successfully\")\n",
    "logging.debug('Connection Closed Successfully')"
   ]
  },
  {
   "cell_type": "code",
   "execution_count": 10,
   "id": "84ab0f43-06f1-4a6e-9360-a6683df1a147",
   "metadata": {},
   "outputs": [
    {
     "name": "stdout",
     "output_type": "stream",
     "text": [
      " 2023-02-14 09:39:25,784 - DEBUG - Data Inserted Successfully\n",
      "\n",
      " 2023-02-14 09:39:25,784 - DEBUG - Connection Closed Successfully\n",
      "\n"
     ]
    }
   ],
   "source": [
    "file = open(\"./application_log.txt\",\"r\")\n",
    "for record in file.readlines():\n",
    "    print(record)"
   ]
  },
  {
   "cell_type": "code",
   "execution_count": null,
   "id": "aff02e53-05d6-42e1-8054-f65d54b1fb1f",
   "metadata": {},
   "outputs": [],
   "source": [
    "6. What are the five levels of logging?\n",
    "Ans: The Five levels of Logging provided by python's logging module are CRITICAL(50), ERROR(40), WARNING(30), INFO(20, DEBUG(10), NOTSET(0)\n",
    "\n",
    "7. What line of code would you add to your software to disable all logging messages?"
   ]
  },
  {
   "cell_type": "code",
   "execution_count": 11,
   "id": "b143f663-7642-43ad-af08-dcdc417cb4c4",
   "metadata": {},
   "outputs": [],
   "source": [
    "logging.disable = True"
   ]
  },
  {
   "cell_type": "code",
   "execution_count": null,
   "id": "7e0752c2-95f5-43ed-9da0-a4c8e4958500",
   "metadata": {},
   "outputs": [],
   "source": [
    "8.Why is using logging messages better than using print() to display the same message?\n",
    "Ans: Post devlopment of your code, you can disable logging messages without removing the logging function, whereas you need to manually remove print() statements, which is tedious activity. and also print is used when you want to display any particular message or help whereas logging is used to record all events like error, info, debug messages, timestamps.\n",
    "\n",
    "9.What are the differences between the Step Over, Step In, and Step Out buttons in the debugger?\n",
    "Ans: The Differences between Step Over, Step In, Step Out buttons in debugger are:\n",
    "\n",
    "1.Step in - Step In button will cause the debugger to execute the next line of code and then pause again.\n",
    "2.Step Over - Step Over button will execute the next line of code, similar to the Step In button. However, if the next line of code is a function call, the Step Over button will “step over” the code in the function. The function’s code will be executed at full speed, and the debugger will pause as soon as the function call returns.\n",
    "3.Step out - Step Out button will cause the debugger to execute lines of code at full speed until it returns from the current function.\n",
    "\n",
    "10.After you click Continue, when will the debugger stop ?\n",
    "Ans: This will cause the program to continue running normally, without pausing for debugging untill it terminates or reaches a breakpoint.\n",
    "\n",
    "11. What is the concept of a breakpoint?\n",
    "Ans: Breakpoint is a setting on a line of code that causes the debugger to pause when the program execution reaches the line"
   ]
  }
 ],
 "metadata": {
  "kernelspec": {
   "display_name": "Python 3 (ipykernel)",
   "language": "python",
   "name": "python3"
  },
  "language_info": {
   "codemirror_mode": {
    "name": "ipython",
    "version": 3
   },
   "file_extension": ".py",
   "mimetype": "text/x-python",
   "name": "python",
   "nbconvert_exporter": "python",
   "pygments_lexer": "ipython3",
   "version": "3.10.6"
  }
 },
 "nbformat": 4,
 "nbformat_minor": 5
}
