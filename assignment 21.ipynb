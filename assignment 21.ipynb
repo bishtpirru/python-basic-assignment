{
 "cells": [
  {
   "cell_type": "code",
   "execution_count": null,
   "id": "3e5319a0-f760-49ef-b7e2-818ebf250c66",
   "metadata": {},
   "outputs": [],
   "source": [
    "Assignment 21 Solutions\n",
    "1. Add the current date to the text file today.txt as a string."
   ]
  },
  {
   "cell_type": "code",
   "execution_count": 1,
   "id": "aa6e45e2-edfb-46cb-af8a-3f2c6230875c",
   "metadata": {},
   "outputs": [
    {
     "name": "stdout",
     "output_type": "stream",
     "text": [
      "16-02-2023\n"
     ]
    }
   ],
   "source": [
    "import datetime\n",
    "# Code to Add current date to the today.txt file\n",
    "file = open('today.txt','w')\n",
    "file.write(datetime.datetime.now().strftime(\"%d-%m-%Y\"))\n",
    "file.close()\n",
    "# Code to Read current date from today.txt file\n",
    "file = open('today.txt','r')\n",
    "print(file.read())\n",
    "file.close()"
   ]
  },
  {
   "cell_type": "code",
   "execution_count": null,
   "id": "ac35abae-7ed1-4a16-bf3d-3114aa97deef",
   "metadata": {},
   "outputs": [],
   "source": [
    "2. Read the text file today.txt into the string today_string"
   ]
  },
  {
   "cell_type": "code",
   "execution_count": 2,
   "id": "5ee92fd5-220f-40db-81a3-c1f7fe519a98",
   "metadata": {},
   "outputs": [
    {
     "name": "stdout",
     "output_type": "stream",
     "text": [
      "16-02-2023\n"
     ]
    }
   ],
   "source": [
    "file = open('today.txt','r')\n",
    "today_string = file.read()\n",
    "print(today_string)"
   ]
  },
  {
   "cell_type": "code",
   "execution_count": null,
   "id": "132908ef-2ceb-491b-8e64-5e98441c42fc",
   "metadata": {},
   "outputs": [],
   "source": [
    "3. Parse the date from today_string."
   ]
  },
  {
   "cell_type": "code",
   "execution_count": 3,
   "id": "e8f48c60-e25c-4257-8ba1-f08ee2ac4e36",
   "metadata": {},
   "outputs": [
    {
     "name": "stdout",
     "output_type": "stream",
     "text": [
      "2023-02-16 00:00:00\n"
     ]
    }
   ],
   "source": [
    "from datetime import datetime\n",
    "parsed_data = datetime.strptime(today_string, '%d-%m-%Y')\n",
    "print(parsed_data)"
   ]
  },
  {
   "cell_type": "code",
   "execution_count": null,
   "id": "f19ec8af-2688-4bad-8817-aff476938f24",
   "metadata": {},
   "outputs": [],
   "source": [
    "4. List the files in your current directory"
   ]
  },
  {
   "cell_type": "code",
   "execution_count": 4,
   "id": "15458c65-2bdb-4d6d-b47b-4e1cd6d7a1cf",
   "metadata": {},
   "outputs": [
    {
     "name": "stdout",
     "output_type": "stream",
     "text": [
      "README.md\n",
      "assignment 5.ipynb\n",
      "assignment  11.ipynb\n",
      "test.txt\n",
      "assignment17.ipynb\n",
      "sample-code.ipynb\n",
      "assignment 7.ipynb\n",
      "assignment 14.ipynb\n",
      "assignment 6.ipynb\n",
      "assignment 19.ipynb\n",
      "assignment 9.ipynb\n",
      "assignment 13.ipynb\n",
      "assignment 15.ipynb\n",
      "university_records.csv\n",
      "assignment 20.ipynb\n",
      "assignment 4.ipynb\n",
      " assignment 1.ipynb\n",
      "assignment 21.ipynb\n",
      "assignment 3.ipynb\n",
      "assignment 10.ipynb\n",
      "books.db\n",
      "assignment 16.ipynb\n",
      "assignment18 .ipynb\n",
      "assignment 2.ipynb\n",
      "today.txt\n",
      "books.csv\n",
      "application_log.txt\n",
      "assignment 8.ipynb\n",
      "packed-refs\n",
      "HEAD\n",
      "index\n",
      "config\n",
      "description\n",
      "HEAD\n",
      "main\n",
      "HEAD\n",
      "exclude\n",
      "pack-290036e657c294196be1b61a981e44da145e2135.pack\n",
      "pack-290036e657c294196be1b61a981e44da145e2135.idx\n",
      "pre-push.sample\n",
      "prepare-commit-msg.sample\n",
      "applypatch-msg.sample\n",
      "pre-applypatch.sample\n",
      "commit-msg.sample\n",
      "pre-rebase.sample\n",
      "pre-receive.sample\n",
      "update.sample\n",
      "fsmonitor-watchman.sample\n",
      "pre-merge-commit.sample\n",
      "pre-commit.sample\n",
      "push-to-checkout.sample\n",
      "post-update.sample\n",
      "main\n",
      "HEAD\n",
      "assignment 4-checkpoint.ipynb\n",
      "assignment 3-checkpoint.ipynb\n",
      "assignment 9-checkpoint.ipynb\n",
      "assignment 14-checkpoint.ipynb\n",
      "sample-code-checkpoint.ipynb\n",
      "assignment 8-checkpoint.ipynb\n",
      "assignment 10-checkpoint.ipynb\n",
      "assignment 6-checkpoint.ipynb\n",
      "assignment 13-checkpoint.ipynb\n",
      "assignment 7-checkpoint.ipynb\n",
      "assignment 16-checkpoint.ipynb\n",
      "application_log-checkpoint.txt\n",
      "README-checkpoint.md\n",
      "assignment 2-checkpoint.ipynb\n",
      "assignment18 -checkpoint.ipynb\n",
      "assignment 20-checkpoint.ipynb\n",
      "assignment 21-checkpoint.ipynb\n",
      "assignment  11-checkpoint.ipynb\n",
      "assignment 15-checkpoint.ipynb\n",
      "assignment17-checkpoint.ipynb\n",
      "assignment 5-checkpoint.ipynb\n",
      "university_records-checkpoint.csv\n",
      " assignment 1-checkpoint.ipynb\n",
      "assignment 19-checkpoint.ipynb\n"
     ]
    }
   ],
   "source": [
    "import os\n",
    "for folders, subfolders, files in os.walk(os.getcwd()):\n",
    "    for file in files:\n",
    "        print(file)"
   ]
  },
  {
   "cell_type": "code",
   "execution_count": null,
   "id": "ab8c28f2-f6b7-4f62-87d2-40ecd37347bc",
   "metadata": {},
   "outputs": [],
   "source": [
    "5. Create a list of all of the files in your parent directory (minimum five files should be available)."
   ]
  },
  {
   "cell_type": "code",
   "execution_count": 5,
   "id": "e69f7d73-4d30-4687-8c7f-f01bb77ddac1",
   "metadata": {},
   "outputs": [
    {
     "data": {
      "text/plain": [
       "['README.md',\n",
       " 'assignment 5.ipynb',\n",
       " 'assignment  11.ipynb',\n",
       " 'test.txt',\n",
       " 'assignment17.ipynb',\n",
       " 'sample-code.ipynb',\n",
       " 'assignment 7.ipynb',\n",
       " 'assignment 14.ipynb',\n",
       " 'assignment 6.ipynb',\n",
       " '.git',\n",
       " 'assignment 19.ipynb',\n",
       " 'assignment 9.ipynb',\n",
       " 'assignment 13.ipynb',\n",
       " 'assignment 15.ipynb',\n",
       " 'university_records.csv',\n",
       " 'assignment 20.ipynb',\n",
       " 'assignment 4.ipynb',\n",
       " ' assignment 1.ipynb',\n",
       " 'assignment 21.ipynb',\n",
       " 'assignment 3.ipynb',\n",
       " 'assignment 10.ipynb',\n",
       " 'books.db',\n",
       " 'assignment 16.ipynb',\n",
       " 'assignment18 .ipynb',\n",
       " 'assignment 2.ipynb',\n",
       " '.ipynb_checkpoints',\n",
       " 'today.txt',\n",
       " 'books.csv',\n",
       " 'application_log.txt',\n",
       " 'assignment 8.ipynb']"
      ]
     },
     "execution_count": 5,
     "metadata": {},
     "output_type": "execute_result"
    }
   ],
   "source": [
    "import os \n",
    "os.listdir()"
   ]
  },
  {
   "cell_type": "code",
   "execution_count": null,
   "id": "327005b0-782a-4105-9aa2-d0a13a79be16",
   "metadata": {},
   "outputs": [],
   "source": [
    "6. Use multiprocessing to create three separate processes. Make each one wait a random number of seconds between one and five, print the current time, and then exit."
   ]
  },
  {
   "cell_type": "code",
   "execution_count": 6,
   "id": "f2475bbb-1952-45e4-9fcf-30622ca9b849",
   "metadata": {},
   "outputs": [
    {
     "name": "stdout",
     "output_type": "stream",
     "text": [
      "Proc_one_Starttime -> 2023-02-16 07:06:10.424665\n",
      "Proc_two_Starttime -> 2023-02-16 07:06:10.428718\n",
      "Proc_two_Starttime -> 2023-02-16 07:06:10.433977\n",
      "Proc_two_Endtime -> 2023-02-16 07:06:11.438521\n",
      "Proc_two_Endtime -> 2023-02-16 07:06:13.437627\n",
      "Proc_one_Endtime -> 2023-02-16 07:06:15.430117\n"
     ]
    }
   ],
   "source": [
    "import multiprocessing\n",
    "import time \n",
    "import random\n",
    "import datetime\n",
    "\n",
    "def procOne():\n",
    "    print(f'Proc_one_Starttime -> {datetime.datetime.now()}')\n",
    "    time.sleep(random.randint(1,5))\n",
    "    print(f'Proc_one_Endtime -> {datetime.datetime.now()}')\n",
    "    \n",
    "def procTwo():\n",
    "    print(f'Proc_two_Starttime -> {datetime.datetime.now()}')\n",
    "    time.sleep(random.randint(1,5))\n",
    "    print(f'Proc_two_Endtime -> {datetime.datetime.now()}')\n",
    "\n",
    "def procThree():\n",
    "    print(f'Proc_two_Starttime -> {datetime.datetime.now()}')\n",
    "    time.sleep(random.randint(1,5))\n",
    "    print(f'Proc_two_Endtime -> {datetime.datetime.now()}')\n",
    "    \n",
    "if __name__ == \"__main__\":    \n",
    "    p1 = multiprocessing.Process(target=procOne)\n",
    "    p2 = multiprocessing.Process(target=procTwo)\n",
    "    p3 = multiprocessing.Process(target=procThree)\n",
    "\n",
    "    p1.start()\n",
    "    p2.start()\n",
    "    p3.start()\n",
    "\n",
    "    p1.join()\n",
    "    p2.join()\n",
    "    p3.join()"
   ]
  },
  {
   "cell_type": "code",
   "execution_count": null,
   "id": "3fa48134-8fa5-4d67-b4fa-6abaaa991f1d",
   "metadata": {},
   "outputs": [],
   "source": [
    "7. Create a date object of your day of birth."
   ]
  },
  {
   "cell_type": "code",
   "execution_count": 9,
   "id": "7cf8607c-c555-410e-8be7-1ba49196195e",
   "metadata": {},
   "outputs": [
    {
     "name": "stdout",
     "output_type": "stream",
     "text": [
      "2002-10-28 00:00:00 <class 'datetime.datetime'>\n"
     ]
    }
   ],
   "source": [
    "from datetime import datetime\n",
    "my_dob = datetime.strptime('28/10/2002','%d/%m/%Y')\n",
    "print(my_dob, type(my_dob))"
   ]
  },
  {
   "cell_type": "code",
   "execution_count": null,
   "id": "e6022872-d37c-45c0-8727-56af88ea1d2a",
   "metadata": {},
   "outputs": [],
   "source": [
    "8. What day of the week was your day of birth?"
   ]
  },
  {
   "cell_type": "code",
   "execution_count": 10,
   "id": "4f1a8852-5cc7-4c2d-9633-942d43d34652",
   "metadata": {},
   "outputs": [
    {
     "data": {
      "text/plain": [
       "'Monday'"
      ]
     },
     "execution_count": 10,
     "metadata": {},
     "output_type": "execute_result"
    }
   ],
   "source": [
    "from datetime import datetime\n",
    "my_dob = datetime(2002,10,28)\n",
    "my_dob.strftime(\"%A\")"
   ]
  },
  {
   "cell_type": "code",
   "execution_count": null,
   "id": "7f9e0942-29f2-4e54-9b7f-ffb48540f42f",
   "metadata": {},
   "outputs": [],
   "source": [
    "9. When will you be (or when were you) 10,000 days old?"
   ]
  },
  {
   "cell_type": "code",
   "execution_count": 11,
   "id": "0d1a8678-1d40-4d2f-9d99-ca1f084fb5b3",
   "metadata": {},
   "outputs": [
    {
     "data": {
      "text/plain": [
       "datetime.datetime(1975, 6, 12, 0, 0)"
      ]
     },
     "execution_count": 11,
     "metadata": {},
     "output_type": "execute_result"
    }
   ],
   "source": [
    "from datetime import datetime, timedelta\n",
    "my_dob = datetime.strptime(\"28/10/2002\",'%d/%m/%Y')\n",
    "future_date = my_dob-timedelta(10000)\n",
    "future_date"
   ]
  },
  {
   "cell_type": "code",
   "execution_count": null,
   "id": "57f116c4-cc29-4f39-9340-f321a7d47468",
   "metadata": {},
   "outputs": [],
   "source": []
  }
 ],
 "metadata": {
  "kernelspec": {
   "display_name": "Python 3 (ipykernel)",
   "language": "python",
   "name": "python3"
  },
  "language_info": {
   "codemirror_mode": {
    "name": "ipython",
    "version": 3
   },
   "file_extension": ".py",
   "mimetype": "text/x-python",
   "name": "python",
   "nbconvert_exporter": "python",
   "pygments_lexer": "ipython3",
   "version": "3.10.6"
  }
 },
 "nbformat": 4,
 "nbformat_minor": 5
}
