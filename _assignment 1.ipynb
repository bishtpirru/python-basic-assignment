{
 "cells": [
  {
   "cell_type": "code",
   "execution_count": null,
   "id": "6618646d-6253-4552-a42d-a06a4891e4ea",
   "metadata": {},
   "outputs": [],
   "source": [
    "Assignment 1 Solutions\n",
    "1. In the below elements which of them are values or an expression? eg:- values can be integer or string and expressions will be mathematical operators.\n",
    "*,'hello', -87.8,-,/,+,6\n",
    "\n",
    "Ans: There are a total of 4 Operators and 3 Expressions, They are:\n",
    "Operators: *,-,/,+\n",
    "Expressions: 'hello', 87.8, 6\n",
    "\n",
    "2. What is the difference between string and variable?\n",
    "Ans: A Variable is used to store of information, and a String is a type of information you would store in a Variable. A String is a group of characters or a single character usually enclosed in Double quotes \" \" or single quotes ' '\n",
    "\n",
    "3. Describe three different Data Types ?\n",
    "Ans: Three fundamental Data types in python are int, float, complex.\n",
    "\n",
    "1.int data type: We can use int data type to represent whole numbers (integral values)\n",
    "2.float data type: We can use float data type to represent floating point values (decimal values)\n",
    "3.complex data type: Complex number is represented by complex class. It is specified as (real part) + (imaginary part)j.\n"
   ]
  },
  {
   "cell_type": "code",
   "execution_count": 2,
   "id": "6dcd91e0-49f5-45bb-9ae7-4c69caaeb55e",
   "metadata": {},
   "outputs": [
    {
     "name": "stdout",
     "output_type": "stream",
     "text": [
      "4567 <class 'int'>\n",
      "1200.0 <class 'float'>\n",
      "(10+1.5j) <class 'complex'>\n"
     ]
    }
   ],
   "source": [
    "# Example for int data type\n",
    "int_num=4567\n",
    "print(int_num, type(int_num))\n",
    "# Example for float data type\n",
    "flo_num=1.2e3\n",
    "print(flo_num, type(flo_num))\n",
    "# Example for Complex data type\n",
    "com_num=10+1.5j\n",
    "print(com_num, type(com_num))"
   ]
  },
  {
   "cell_type": "code",
   "execution_count": null,
   "id": "9440515a-2c9a-44f7-a340-abd5ede48572",
   "metadata": {},
   "outputs": [],
   "source": [
    "4. What is an expression made up of? What do all expressions do?\n",
    "Ans: An expression is a combination of values, variables, operators, and calls to functions. Expressions need to be evaluated. If we ask Python to print an expression, the interpreter evaluates the expression and displays the result."
   ]
  },
  {
   "cell_type": "code",
   "execution_count": 3,
   "id": "4b50227c-8569-4412-beae-c5f8f3ca196a",
   "metadata": {},
   "outputs": [
    {
     "data": {
      "text/plain": [
       "0"
      ]
     },
     "execution_count": 3,
     "metadata": {},
     "output_type": "execute_result"
    }
   ],
   "source": [
    "4*5+20-40"
   ]
  },
  {
   "cell_type": "code",
   "execution_count": null,
   "id": "d6c8989c-a9d3-4c9a-965b-fc9ed1306994",
   "metadata": {},
   "outputs": [],
   "source": [
    "5.This assignment statements, like spam = 10. What is the difference between an expression and a statement?\n",
    "Ans: An expression is a combination of values, variables, and operators.When we type an expression at the prompt, the interpreter evaluates it, which means that it finds the value of the expression.\n",
    "\n",
    "eg: 4*5+20-40 is an example of a statement\n",
    "\n",
    "A statement is a unit of code that has an effect, like creating a variable or displaying a value.When we type a statement, the interpreter executes it, which means that it does whatever the statement says. In general, statements don’t have values.\n",
    "\n",
    "eg: variable declaration and assignment are statements because they do not return a value"
   ]
  },
  {
   "cell_type": "code",
   "execution_count": 4,
   "id": "c68fd3a5-ce00-4e09-9173-8466bff32aba",
   "metadata": {},
   "outputs": [
    {
     "name": "stdout",
     "output_type": "stream",
     "text": [
      "Hello World !\n"
     ]
    }
   ],
   "source": [
    "#Example:\n",
    "4*5+20-40 # Is a Expression\n",
    "courseName = 'INeuron FullStack DataScience' # Is a Statement\n",
    "print(\"Hello World !\") # Is a Expression Statement"
   ]
  },
  {
   "cell_type": "code",
   "execution_count": null,
   "id": "5b3818ff-8bd9-4398-8d0e-1891d18623d0",
   "metadata": {},
   "outputs": [],
   "source": [
    "6.After running the following code, what does the variable bacon contain?\n",
    "bacon = 22\n",
    "bacon + 1\n",
    "\n",
    "Ans: The variable bacon is set to 22 .The expression bacon + 1 does not reassign the value in bacon (that would the case if the expression is like bacon = bacon + 1 instead of bacon + 1)"
   ]
  },
  {
   "cell_type": "code",
   "execution_count": 5,
   "id": "1c4f94ca-d441-4a5b-84af-69fd1a8a1a2c",
   "metadata": {},
   "outputs": [
    {
     "name": "stdout",
     "output_type": "stream",
     "text": [
      "22\n"
     ]
    }
   ],
   "source": [
    "# Example Case#1\n",
    "bacon=22\n",
    "bacon+1\n",
    "print(bacon)"
   ]
  },
  {
   "cell_type": "code",
   "execution_count": 6,
   "id": "1b182f68-5b7b-448f-8c83-7aed3cacd4fe",
   "metadata": {},
   "outputs": [
    {
     "name": "stdout",
     "output_type": "stream",
     "text": [
      "23\n"
     ]
    }
   ],
   "source": [
    "#Example Case#2\n",
    "bacon=22\n",
    "bacon=bacon+1 \n",
    "print(bacon)"
   ]
  },
  {
   "cell_type": "code",
   "execution_count": null,
   "id": "8e76921d-d45c-454f-9142-b068b41e5629",
   "metadata": {},
   "outputs": [],
   "source": [
    "7.What should the values of the following two terms be?\n",
    "'spam'+'spamspam'\n",
    "'spam'*3\n",
    "\n",
    "Ans: Both expressions evaluate to the string 'spamspamspam' Where as the first expression follows String Concatentation and the second expression follows String Multiplication"
   ]
  },
  {
   "cell_type": "code",
   "execution_count": 7,
   "id": "a46bd9aa-b561-44c4-9d71-80edbc57a945",
   "metadata": {},
   "outputs": [
    {
     "name": "stdout",
     "output_type": "stream",
     "text": [
      "spamspamspam\n",
      "spamspamspam\n"
     ]
    }
   ],
   "source": [
    "print('spam'+'spamspam') # string concatenation\n",
    "print('spam'*3) # string multiplication"
   ]
  },
  {
   "cell_type": "code",
   "execution_count": null,
   "id": "35fa10e5-5024-4b95-9cab-c3a5ed7dd35b",
   "metadata": {},
   "outputs": [],
   "source": [
    "8. Why is eggs a valid variable name while 100 is invalid?\n",
    "Ans: As per python,Variable names cannot begin with a number. The python rules for naming a variable are :-\n",
    "\n",
    "1.Variable name must start with a letter or the underscore character.\n",
    "2.Variable name cannot start with a number.\n",
    "3.Variable name can only contain alpha-numeric characters and underscores (A-z, 0-9, & _ ).\n",
    "4.Variable names are case-sensitive (name, INEURON and ineuron are three different variables).\n",
    "5.The reserved words(keywords) cannot be used naming the variable."
   ]
  },
  {
   "cell_type": "code",
   "execution_count": 8,
   "id": "84e0b24a-279d-476d-8044-40004356928d",
   "metadata": {},
   "outputs": [
    {
     "ename": "SyntaxError",
     "evalue": "cannot assign to literal here. Maybe you meant '==' instead of '='? (3634917690.py, line 2)",
     "output_type": "error",
     "traceback": [
      "\u001b[0;36m  Cell \u001b[0;32mIn [8], line 2\u001b[0;36m\u001b[0m\n\u001b[0;31m    100='hello' # Invalid Variable Initilization\u001b[0m\n\u001b[0m    ^\u001b[0m\n\u001b[0;31mSyntaxError\u001b[0m\u001b[0;31m:\u001b[0m cannot assign to literal here. Maybe you meant '==' instead of '='?\n"
     ]
    }
   ],
   "source": [
    "egg='Ineuron' # Valid variable Initilization\n",
    "100='hello' # Invalid Variable Initilization\n",
    "print(egg) #prints the value of egg ie Ineuron\n",
    "print(100) # Raises a Syntax Error as 100 is not a valid variable name"
   ]
  },
  {
   "cell_type": "code",
   "execution_count": null,
   "id": "cceea67c-ffa5-46e0-b2d3-24cab162932a",
   "metadata": {},
   "outputs": [],
   "source": [
    "9.What three functions can be used to get the integer,floating-point number,or string version of a value?\n",
    "Ans: The int(),float(),and str() functions will evaluate to the integer,floating-point number,string version of the value passed to them."
   ]
  },
  {
   "cell_type": "code",
   "execution_count": 9,
   "id": "df6ae2ec-9e01-4d85-b853-049500555d50",
   "metadata": {},
   "outputs": [
    {
     "name": "stdout",
     "output_type": "stream",
     "text": [
      "int(10.0) ->  10\n",
      "float(10) ->  10.0\n",
      "str(10) ->  10\n"
     ]
    }
   ],
   "source": [
    "# Examples:\n",
    "print('int(10.0) -> ',int(10.0)) # int() function converts given input to int\n",
    "print('float(10) -> ',float(10)) # float() function converts given input to float\n",
    "print('str(10) -> ',str(10)) # str() function converts given input to string"
   ]
  },
  {
   "cell_type": "code",
   "execution_count": null,
   "id": "ef934282-d2fd-49a3-9141-43908251660e",
   "metadata": {},
   "outputs": [],
   "source": [
    "10.Why does this expression cause an error? how can you fix it?\n",
    "'I have eaten ' + 99 + 'burritos.'\n",
    "\n",
    "Ans: This cause of error is 99.because 99 is not a string. 99 must be typecasted to a string to fix this error. the correct way is:\n",
    "Input: 'I have eaten ' + str(99) + 'burritos.'\n",
    "Output: 'I have eaten 99 burritos.'"
   ]
  },
  {
   "cell_type": "code",
   "execution_count": 10,
   "id": "8c80468f-19ab-4c68-bd6e-7b7cac47f0a9",
   "metadata": {},
   "outputs": [
    {
     "name": "stdout",
     "output_type": "stream",
     "text": [
      "I have eaten 99 burritos\n"
     ]
    }
   ],
   "source": [
    "print('I have eaten '+str(99)+' burritos')"
   ]
  },
  {
   "cell_type": "code",
   "execution_count": null,
   "id": "600f8d8a-54c5-47a6-a7e9-3690cf73f60b",
   "metadata": {},
   "outputs": [],
   "source": []
  }
 ],
 "metadata": {
  "kernelspec": {
   "display_name": "Python 3 (ipykernel)",
   "language": "python",
   "name": "python3"
  },
  "language_info": {
   "codemirror_mode": {
    "name": "ipython",
    "version": 3
   },
   "file_extension": ".py",
   "mimetype": "text/x-python",
   "name": "python",
   "nbconvert_exporter": "python",
   "pygments_lexer": "ipython3",
   "version": "3.10.6"
  }
 },
 "nbformat": 4,
 "nbformat_minor": 5
}
