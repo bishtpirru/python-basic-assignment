{
 "cells": [
  {
   "cell_type": "code",
   "execution_count": null,
   "id": "e7d5c6c7-c4db-4639-a876-cdead4f0798f",
   "metadata": {},
   "outputs": [],
   "source": [
    "Assignment 3 Solutions\n",
    "1. Why are functions advantageous to have in your programs?\n",
    "Ans: Functions reduce the need for duplicate code. This makes programs shorter, easier to read, and easier to update. The main advantage of functions is code Reusability.\n",
    "\n",
    "\n",
    "2. When does the code in a function run: when it's specified or when it's called?\n",
    "Ans: The code in a function executes when the function is called, not when the function is specified.\n",
    "\n",
    "\n",
    "3. What statement creates a function?\n",
    "Ans: The def statement defines a function\n",
    "Syntax of Function:\n",
    "def function_name(parameters): \"\"\"doc string\"\"\" -----function body----- -----function body----- return value\n",
    "\n",
    "\n",
    "4. What is the difference between a function and a function call?\n",
    "Ans: A function is procedure to achieve a particular result. while function call is using this function to achive that task. Using a function to do a particular task any point in program is called as function call.\n",
    "\n",
    "\n",
    "5. How many global scopes are there in a Python program? How many local scopes?\n",
    "Ans: There is one global scope, and a local scope is created whenever a function is called.\n",
    "\n",
    "\n",
    "6. What happens to variables in a local scope when the function call returns?\n",
    "Ans: When a function returns, the local scope is destroyed, and all the variables in it are forgotten.\n",
    "\n",
    "\n",
    "7. What is the concept of a return value? Is it possible to have a return value in an expression?\n",
    "Ans: A return value is the value that a function call evaluates to. Like any value, a return value can be used as part of an expression.\n",
    "\n",
    "\n",
    "8. If a function does not have a return statement, what is the return value of a call to that function?\n",
    "Ans: If there is no return statement for a function, its return value is None.\n",
    "\n",
    "\n",
    "9. How do you make a function variable refer to the global variable?\n",
    "Ans: A global statement will force a variable in a function to refer to the global variable. If you want to refer to a global variable in a function, you can use the global keyword to declare which variables are global.\n",
    "\n",
    "\n",
    "10. What is the data type of None?\n",
    "Ans: The data type of None is NoneType.\n",
    "\n",
    "\n",
    "11. What does the sentence import areallyourpetsnamederic do?\n",
    "Ans: That import statement imports a module named areallyourpetsnamederic.\n",
    "\n",
    "\n",
    "12. If you had a bacon() feature in a spam module, what would you call it after importing spam?\n",
    "Ans: This function can be called with spam.bacon().\n",
    "\n"
   ]
  },
  {
   "cell_type": "code",
   "execution_count": null,
   "id": "d034ea09-571e-4421-a523-90e3d536dd22",
   "metadata": {},
   "outputs": [],
   "source": []
  },
  {
   "cell_type": "code",
   "execution_count": null,
   "id": "c0b340bd-3cfa-4429-9773-e15e11cbbc3e",
   "metadata": {},
   "outputs": [],
   "source": []
  },
  {
   "cell_type": "code",
   "execution_count": null,
   "id": "326b12a6-8a02-4774-957f-aa188ec25079",
   "metadata": {},
   "outputs": [],
   "source": []
  },
  {
   "cell_type": "code",
   "execution_count": null,
   "id": "a780f612-e9f6-4df0-b303-8e4a53be3a45",
   "metadata": {},
   "outputs": [],
   "source": []
  }
 ],
 "metadata": {
  "kernelspec": {
   "display_name": "Python 3 (ipykernel)",
   "language": "python",
   "name": "python3"
  },
  "language_info": {
   "codemirror_mode": {
    "name": "ipython",
    "version": 3
   },
   "file_extension": ".py",
   "mimetype": "text/x-python",
   "name": "python",
   "nbconvert_exporter": "python",
   "pygments_lexer": "ipython3",
   "version": "3.10.6"
  }
 },
 "nbformat": 4,
 "nbformat_minor": 5
}
