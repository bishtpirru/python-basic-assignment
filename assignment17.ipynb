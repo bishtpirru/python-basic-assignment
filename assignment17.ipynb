{
 "cells": [
  {
   "cell_type": "code",
   "execution_count": null,
   "id": "9e9accc8-c390-4454-bbe5-e57626b24197",
   "metadata": {},
   "outputs": [],
   "source": [
    "Assignment 17 Solutions\n",
    "1. Assign the value 7 to the variable guess_me. Then, write the conditional tests (if, else, and elif) to print the string 'too low' if guess_me is less than 7, 'too high' if greater than 7, and 'just right' if equal to 7."
   ]
  },
  {
   "cell_type": "code",
   "execution_count": 1,
   "id": "e30d31e6-dfae-4a6e-8527-90c4ea3c9e72",
   "metadata": {},
   "outputs": [
    {
     "name": "stdout",
     "output_type": "stream",
     "text": [
      "just Right\n",
      "too Low\n",
      "too High\n"
     ]
    }
   ],
   "source": [
    "def guess_me(guess_me):\n",
    "    if guess_me < 7:\n",
    "        print('too Low')\n",
    "    elif guess_me > 7:\n",
    "        print('too High')\n",
    "    else:\n",
    "        print('just Right')\n",
    "\n",
    "guess_me(guess_me=7)\n",
    "guess_me(guess_me=5)\n",
    "guess_me(guess_me=15)"
   ]
  },
  {
   "cell_type": "code",
   "execution_count": null,
   "id": "1183fd91-02d6-4da1-8eb3-b4fbd4ffe25b",
   "metadata": {},
   "outputs": [],
   "source": [
    "2. Assign the value 7 to the variable guess_me and the value 1 to the variable start. Write a while loop that compares start with guess_me. Print too low if start is less than guess me. If start equals guess_me, print 'found it!' and exit the loop. If start is greater than guess_me, print 'oops' and exit the loop. Increment start at the end of the loop"
   ]
  },
  {
   "cell_type": "code",
   "execution_count": 5,
   "id": "541aa954-4a54-4131-a0ce-0680335c0eda",
   "metadata": {},
   "outputs": [
    {
     "name": "stdout",
     "output_type": "stream",
     "text": [
      "too low\n",
      "too low\n",
      "too low\n",
      "too low\n",
      "too low\n",
      "found it\n"
     ]
    }
   ],
   "source": [
    "guess_me = 7\n",
    "start = 2\n",
    "while True:\n",
    "    if start < guess_me:\n",
    "        print('too low')\n",
    "    elif start == guess_me:\n",
    "        print('found it')\n",
    "        break\n",
    "    else:\n",
    "        print('oops')\n",
    "        break\n",
    "    start += 1"
   ]
  },
  {
   "cell_type": "code",
   "execution_count": null,
   "id": "df595fcc-c63e-48b7-9af2-0230b2368d29",
   "metadata": {},
   "outputs": [],
   "source": [
    "3. Print the following values of the list [3, 2, 1, 0] using a for loop."
   ]
  },
  {
   "cell_type": "code",
   "execution_count": 6,
   "id": "7563a670-4a6c-405b-b2a0-eb8a2800a5b5",
   "metadata": {},
   "outputs": [
    {
     "name": "stdout",
     "output_type": "stream",
     "text": [
      "3\n",
      "2\n",
      "1\n",
      "0\n"
     ]
    },
    {
     "data": {
      "text/plain": [
       "3"
      ]
     },
     "execution_count": 6,
     "metadata": {},
     "output_type": "execute_result"
    }
   ],
   "source": [
    "in_list = [3,2,1,0]\n",
    "for ele in in_list:\n",
    "    print(ele)\n",
    "3"
   ]
  },
  {
   "cell_type": "code",
   "execution_count": null,
   "id": "39fe855d-f232-4505-b100-b066fd96657c",
   "metadata": {},
   "outputs": [],
   "source": [
    "4. Use a list comprehension to make a list of the even numbers in range(10)"
   ]
  },
  {
   "cell_type": "code",
   "execution_count": 7,
   "id": "95409d6f-cb9c-4ab6-8e8e-96045b10457e",
   "metadata": {},
   "outputs": [
    {
     "name": "stdout",
     "output_type": "stream",
     "text": [
      "[0, 2, 4, 6, 8, 10]\n"
     ]
    }
   ],
   "source": [
    "print([x for x in range(10+1) if x%2==0 ])"
   ]
  },
  {
   "cell_type": "code",
   "execution_count": null,
   "id": "03e01e80-886e-4e7f-abba-47ae2698e582",
   "metadata": {},
   "outputs": [],
   "source": [
    "5. Use a dictionary comprehension to create the dictionary squares. Use range(10) to return the keys, and use the square of each key as its value."
   ]
  },
  {
   "cell_type": "code",
   "execution_count": 8,
   "id": "40b0ef07-7220-4db8-b1d3-30e2c7a308e5",
   "metadata": {},
   "outputs": [
    {
     "name": "stdout",
     "output_type": "stream",
     "text": [
      "{0: 0, 1: 1, 2: 4, 3: 9, 4: 16, 5: 25, 6: 36, 7: 49, 8: 64, 9: 81}\n"
     ]
    }
   ],
   "source": [
    "print({x:x**2 for x in range(10)})"
   ]
  },
  {
   "cell_type": "code",
   "execution_count": null,
   "id": "e9594636-0639-466a-b786-5a0778df5470",
   "metadata": {},
   "outputs": [],
   "source": [
    "6. Construct the set odd from the odd numbers in the range using a set comprehension (10)."
   ]
  },
  {
   "cell_type": "code",
   "execution_count": 9,
   "id": "f7d8e6cc-b8e9-4d60-9db3-634ee781d19d",
   "metadata": {},
   "outputs": [
    {
     "name": "stdout",
     "output_type": "stream",
     "text": [
      "{1, 3, 5, 7, 9}\n"
     ]
    }
   ],
   "source": [
    "print({x for x in range(10) if x%2 !=0})"
   ]
  },
  {
   "cell_type": "code",
   "execution_count": null,
   "id": "0ce6d298-8f34-4e03-9cb3-1a63a50c6a92",
   "metadata": {},
   "outputs": [],
   "source": [
    "7. Use a generator comprehension to return the string 'Got ' and a number for the numbers in range(10). Iterate through this by using a for loop"
   ]
  },
  {
   "cell_type": "code",
   "execution_count": null,
   "id": "9dab27bb-fdfc-4e59-a1ae-43ddcee87994",
   "metadata": {},
   "outputs": [],
   "source": [
    "gen_com = ('Got_'+str(x) for x in range(10))\n",
    "for ele in gen_com:\n",
    "    print(ele, end=' ')"
   ]
  },
  {
   "cell_type": "code",
   "execution_count": null,
   "id": "86751d7e-89be-49a1-a8e3-151c6c3910ca",
   "metadata": {},
   "outputs": [],
   "source": [
    "8. Define a function called good that returns the list ['Harry', 'Ron', 'Hermione']."
   ]
  },
  {
   "cell_type": "code",
   "execution_count": 10,
   "id": "52eb4fee-3ef3-4625-93c1-426a5a1b855c",
   "metadata": {},
   "outputs": [
    {
     "name": "stdout",
     "output_type": "stream",
     "text": [
      "['Harry', 'Ron', 'Hermione']\n"
     ]
    }
   ],
   "source": [
    "def good():\n",
    "    x =  ['Harry', 'Ron', 'Hermione']\n",
    "    return x\n",
    "print(good())"
   ]
  },
  {
   "cell_type": "code",
   "execution_count": null,
   "id": "e7154289-e63d-42ca-9e2b-ec01fbc170fa",
   "metadata": {},
   "outputs": [],
   "source": [
    "9. Define a generator function called get_odds that returns the odd numbers from range(10). Use a for loop to find and print the third value returned."
   ]
  },
  {
   "cell_type": "code",
   "execution_count": 11,
   "id": "8b694f1d-d397-4535-a471-a12c0669f86f",
   "metadata": {},
   "outputs": [
    {
     "data": {
      "text/plain": [
       "5"
      ]
     },
     "execution_count": 11,
     "metadata": {},
     "output_type": "execute_result"
    }
   ],
   "source": [
    "def get_odds():\n",
    "    output = []\n",
    "    for ele in range(10):\n",
    "        if ele%2 != 0:\n",
    "            output.append(ele)\n",
    "    yield output\n",
    "\n",
    "next(get_odds())[2]\n"
   ]
  },
  {
   "cell_type": "code",
   "execution_count": null,
   "id": "c7401e48-7000-467b-92ac-88db85adb734",
   "metadata": {},
   "outputs": [],
   "source": [
    "10. Define an exception called OopsException. Raise this exception to see what happens. Then write the code to catch this exception and print 'Caught an oops'."
   ]
  },
  {
   "cell_type": "code",
   "execution_count": 12,
   "id": "ea1727eb-6812-48b2-9e12-4c73583e4501",
   "metadata": {},
   "outputs": [
    {
     "name": "stdout",
     "output_type": "stream",
     "text": [
      "Caught in Oops -> name 'a' is not defined\n"
     ]
    }
   ],
   "source": [
    "class OopsException(Exception):\n",
    "    pass\n",
    "\n",
    "def test(input):\n",
    "    if input <0:\n",
    "        raise OopsException(a)\n",
    "try:\n",
    "    test(-100)\n",
    "except Exception as e:\n",
    "    print('Caught in Oops ->',e)"
   ]
  },
  {
   "cell_type": "code",
   "execution_count": null,
   "id": "d1664974-7666-4290-8b76-09dfb271a499",
   "metadata": {},
   "outputs": [],
   "source": []
  },
  {
   "cell_type": "code",
   "execution_count": null,
   "id": "0ea47af9-befd-405b-bff9-2c117b7ecf86",
   "metadata": {},
   "outputs": [],
   "source": []
  }
 ],
 "metadata": {
  "kernelspec": {
   "display_name": "Python 3 (ipykernel)",
   "language": "python",
   "name": "python3"
  },
  "language_info": {
   "codemirror_mode": {
    "name": "ipython",
    "version": 3
   },
   "file_extension": ".py",
   "mimetype": "text/x-python",
   "name": "python",
   "nbconvert_exporter": "python",
   "pygments_lexer": "ipython3",
   "version": "3.10.6"
  }
 },
 "nbformat": 4,
 "nbformat_minor": 5
}
